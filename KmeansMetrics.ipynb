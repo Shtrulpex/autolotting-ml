{
 "cells": [
  {
   "cell_type": "code",
   "id": "initial_id",
   "metadata": {
    "collapsed": true,
    "ExecuteTime": {
     "end_time": "2024-10-27T21:53:45.008041Z",
     "start_time": "2024-10-27T21:53:42.797317Z"
    }
   },
   "source": [
    "import pandas as pd\n",
    "import numpy as np\n",
    "import matplotlib.pyplot as plt\n",
    "\n",
    "from sklearn.pipeline import Pipeline\n",
    "from sklearn.cluster import KMeans\n",
    "from sklearn.preprocessing import StandardScaler\n",
    "from DataPreparing import Preparer\n",
    "from Aglomerative.GeoSolver import GeoSolver\n",
    "from KMeans import *\n",
    "from DataPipeline import DataPipeline\n",
    "from DataResearch import Scorer"
   ],
   "outputs": [],
   "execution_count": 2
  },
  {
   "metadata": {
    "ExecuteTime": {
     "end_time": "2024-10-27T18:38:34.855095Z",
     "start_time": "2024-10-27T18:38:34.693220Z"
    }
   },
   "cell_type": "code",
   "source": [
    "all_time = pd.read_csv(\"data/all_time_template.csv\")\n",
    "arg1 = all_time.drop(\"ID Лота\", axis=1)\n",
    "arg2 = all_time[\"ID Лота\"]\n",
    "arg2.info()\n",
    "human_lots=all_time[\"ID Лота\"]\n"
   ],
   "id": "759c86f8fb5d0aae",
   "outputs": [
    {
     "name": "stdout",
     "output_type": "stream",
     "text": [
      "<class 'pandas.core.series.Series'>\n",
      "RangeIndex: 39530 entries, 0 to 39529\n",
      "Series name: ID Лота\n",
      "Non-Null Count  Dtype  \n",
      "--------------  -----  \n",
      "30463 non-null  float64\n",
      "dtypes: float64(1)\n",
      "memory usage: 309.0 KB\n"
     ]
    }
   ],
   "execution_count": 10
  },
  {
   "metadata": {
    "ExecuteTime": {
     "end_time": "2024-10-27T19:25:17.703200Z",
     "start_time": "2024-10-27T19:25:17.697204Z"
    }
   },
   "cell_type": "code",
   "source": [
    "# datapipe = DataPipeline()\n",
    "# print(datapipe.put_requests(arg1))"
   ],
   "id": "7c9bec8463836311",
   "outputs": [],
   "execution_count": 20
  },
  {
   "metadata": {
    "ExecuteTime": {
     "end_time": "2024-10-27T21:54:43.326951Z",
     "start_time": "2024-10-27T21:53:48.161220Z"
    }
   },
   "cell_type": "code",
   "source": "req_fea = pd.read_csv(\"data/requests_features.csv\")",
   "id": "f388e6bb3b5a9082",
   "outputs": [
    {
     "name": "stderr",
     "output_type": "stream",
     "text": [
      "C:\\Users\\lamin\\AppData\\Local\\Temp\\ipykernel_19240\\735448713.py:1: DtypeWarning: Columns (19,25) have mixed types. Specify dtype option on import or set low_memory=False.\n",
      "  req_fea = pd.read_csv(\"data/requests_features.csv\")\n"
     ]
    }
   ],
   "execution_count": 3
  },
  {
   "metadata": {
    "ExecuteTime": {
     "end_time": "2024-10-27T21:55:05.013614Z",
     "start_time": "2024-10-27T21:55:02.816879Z"
    }
   },
   "cell_type": "code",
   "source": [
    "req_fea.dropna(subset=[\"human_lot_id\"], inplace=True)\n",
    "req_fea[\"human_lot_id\"] = req_fea[\"human_lot_id\"].astype('int64')\n",
    "req_fea.info()"
   ],
   "id": "613b8952bdbf1e99",
   "outputs": [
    {
     "name": "stdout",
     "output_type": "stream",
     "text": [
      "<class 'pandas.core.frame.DataFrame'>\n",
      "Int64Index: 7864023 entries, 0 to 9939989\n",
      "Data columns (total 28 columns):\n",
      " #   Column                                  Dtype  \n",
      "---  ------                                  -----  \n",
      " 0   human_lot_id                            int64  \n",
      " 1   request_id                              int64  \n",
      " 2   order_dt                                object \n",
      " 3   delivery_dt                             object \n",
      " 4   receiver_id                             int64  \n",
      " 5   receiver_address_id                     int64  \n",
      " 6   receiver_address                        object \n",
      " 7   receiver_address_latitude               float64\n",
      " 8   receiver_address_longitude              float64\n",
      " 9   receiver_address_coords_geo_confidence  float64\n",
      " 10  class_id                                int64  \n",
      " 11  class_name                              object \n",
      " 12  standard_shipping                       int64  \n",
      " 13  material_id                             int64  \n",
      " 14  material_name                           object \n",
      " 15  measure_unit                            object \n",
      " 16  materials_amount                        float64\n",
      " 17  material_price                          float64\n",
      " 18  item_cost                               float64\n",
      " 19  purchase_method                         object \n",
      " 20  order_id                                int64  \n",
      " 21  item_id                                 int64  \n",
      " 22  client_id                               float64\n",
      " 23  supplier_id                             int64  \n",
      " 24  supplier_address_id                     int64  \n",
      " 25  supplier_address                        object \n",
      " 26  supplier_address_latitude               float64\n",
      " 27  supplier_address_longitude              float64\n",
      "dtypes: float64(9), int64(11), object(8)\n",
      "memory usage: 1.7+ GB\n"
     ]
    }
   ],
   "execution_count": 4
  },
  {
   "metadata": {
    "ExecuteTime": {
     "end_time": "2024-10-27T21:57:54.615177Z",
     "start_time": "2024-10-27T21:57:54.319347Z"
    }
   },
   "cell_type": "code",
   "source": [
    "ht = req_fea[[\"request_id\", \"human_lot_id\"]]\n",
    "human_lots = ht.drop_duplicates(subset=[\"request_id\"])\n",
    "human_lots.info()"
   ],
   "id": "9f2f7f1968c230d7",
   "outputs": [
    {
     "name": "stdout",
     "output_type": "stream",
     "text": [
      "<class 'pandas.core.frame.DataFrame'>\n",
      "Int64Index: 30284 entries, 0 to 9939806\n",
      "Data columns (total 2 columns):\n",
      " #   Column        Non-Null Count  Dtype\n",
      "---  ------        --------------  -----\n",
      " 0   request_id    30284 non-null  int64\n",
      " 1   human_lot_id  30284 non-null  int64\n",
      "dtypes: int64(2)\n",
      "memory usage: 709.8 KB\n"
     ]
    }
   ],
   "execution_count": 6
  },
  {
   "metadata": {
    "ExecuteTime": {
     "end_time": "2024-10-27T22:00:51.862468Z",
     "start_time": "2024-10-27T21:59:04.965176Z"
    }
   },
   "cell_type": "code",
   "source": [
    "X_train = req_fea.copy()\n",
    "\n",
    "X_train.rename(columns={\"receiver_address_latitude\": \"reciever_lat\",\n",
    "                        \"receiver_address_longitude\": \"reciever_long\"}, inplace=True)\n",
    "\n",
    "clf = KMeansOnlyRecvV1(18, 42)\n",
    "pred = clf.fit_predict(X_train)\n",
    "\n",
    "X_train[\"lot_id\"] = pred\n",
    "# print(X_train.sample(n=5))\n",
    "# X_train.to_csv(\"data/KMeans_result_for_1month_only_recievers.csv\", index=False)"
   ],
   "id": "77e4e466ef2e9ea3",
   "outputs": [
    {
     "name": "stdout",
     "output_type": "stream",
     "text": [
      "         human_lot_id  request_id                    order_dt  \\\n",
      "9035513  100000762639       36183  2023-11-01 00:00:00.000000   \n",
      "296800   100000338295        1033  2020-02-17 00:00:00.000000   \n",
      "63216    100000317656         214  2020-01-15 00:00:00.000000   \n",
      "8402140  100000762679       33809  2023-08-23 00:00:00.000000   \n",
      "9384991  100000763249       37450  2023-12-20 00:00:00.000000   \n",
      "\n",
      "                        delivery_dt  receiver_id  receiver_address_id  \\\n",
      "9035513  2024-06-30 00:00:00.000000     20000222                   39   \n",
      "296800   2020-07-18 00:00:00.000000     20001123                  162   \n",
      "63216    2020-05-16 00:00:00.000000     20000974                  142   \n",
      "8402140  2024-06-30 00:00:00.000000     20002999                 1552   \n",
      "9384991  2024-04-18 00:00:00.000000     20000511                   79   \n",
      "\n",
      "                                          receiver_address  reciever_lat  \\\n",
      "9035513  629805, РФ, ЯНАО, г. Ноябрьск, промзона, панел...     63.166700   \n",
      "296800   629320, РФ, ЯНАО, г.Новый Уренгой, район Корот...     66.881100   \n",
      "63216    ООО «МЭН», Россия, 628690, ХМАО-Югра, г. Мегио...     61.241200   \n",
      "8402140  Филиал \"Дивизион Центр\" ООО \"Газпромнефть - Сн...     58.919782   \n",
      "9384991  629805, РФ, ЯНАО, г. Ноябрьск, промзона, панел...     63.166700   \n",
      "\n",
      "         reciever_long  receiver_address_coords_geo_confidence  ...  \\\n",
      "9035513      75.616700                                     1.0  ...   \n",
      "296800       79.490700                                     1.0  ...   \n",
      "63216        77.485800                                     1.0  ...   \n",
      "8402140      61.842196                                     0.5  ...   \n",
      "9384991      75.616700                                     1.0  ...   \n",
      "\n",
      "         purchase_method  order_id  item_id  client_id supplier_id  \\\n",
      "9035513              NaN  11545852     1490       59.0       59710   \n",
      "296800               NaN  10942419       20    44114.0       61285   \n",
      "63216                NaN  10931351       70    75006.0       72632   \n",
      "8402140              NaN  11510708      170    27645.0       63379   \n",
      "9384991              NaN  11569437       40    27645.0       64092   \n",
      "\n",
      "        supplier_address_id  supplier_address  supplier_address_latitude  \\\n",
      "9035513                3149            173021                    58.5167   \n",
      "296800                 4317            105187                    55.7522   \n",
      "63216                  8111            413864                    52.2005   \n",
      "8402140                2342            625026                    56.8207   \n",
      "9384991                2038            644040                    54.3408   \n",
      "\n",
      "         supplier_address_longitude lot_id  \n",
      "9035513                     31.2833     11  \n",
      "296800                      37.6156     15  \n",
      "63216                       47.9793      1  \n",
      "8402140                     64.7718     14  \n",
      "9384991                     73.2098     11  \n",
      "\n",
      "[5 rows x 29 columns]\n"
     ]
    }
   ],
   "execution_count": 8
  },
  {
   "metadata": {
    "ExecuteTime": {
     "end_time": "2024-10-27T22:01:53.879732Z",
     "start_time": "2024-10-27T22:01:53.430001Z"
    }
   },
   "cell_type": "code",
   "source": [
    "lts = X_train[[\"request_id\", \"lot_id\"]]\n",
    "lts[\"lot_id\"] = lts[\"lot_id\"].astype('int64') \n",
    "lots = lts.drop_duplicates(subset=[\"request_id\"])\n",
    "lots.info()"
   ],
   "id": "9bf54f7955a2bc4a",
   "outputs": [
    {
     "name": "stderr",
     "output_type": "stream",
     "text": [
      "C:\\Users\\lamin\\AppData\\Local\\Temp\\ipykernel_19240\\2537087498.py:2: SettingWithCopyWarning: \n",
      "A value is trying to be set on a copy of a slice from a DataFrame.\n",
      "Try using .loc[row_indexer,col_indexer] = value instead\n",
      "\n",
      "See the caveats in the documentation: https://pandas.pydata.org/pandas-docs/stable/user_guide/indexing.html#returning-a-view-versus-a-copy\n",
      "  lts[\"lot_id\"] = lts[\"lot_id\"].astype('int64')\n"
     ]
    },
    {
     "name": "stdout",
     "output_type": "stream",
     "text": [
      "<class 'pandas.core.frame.DataFrame'>\n",
      "Int64Index: 30284 entries, 0 to 9939806\n",
      "Data columns (total 2 columns):\n",
      " #   Column      Non-Null Count  Dtype\n",
      "---  ------      --------------  -----\n",
      " 0   request_id  30284 non-null  int64\n",
      " 1   lot_id      30284 non-null  int64\n",
      "dtypes: int64(2)\n",
      "memory usage: 709.8 KB\n"
     ]
    }
   ],
   "execution_count": 11
  },
  {
   "metadata": {},
   "cell_type": "code",
   "outputs": [],
   "execution_count": null,
   "source": "lts[\"lot_id\"]",
   "id": "80fb81e846134e8a"
  },
  {
   "metadata": {
    "ExecuteTime": {
     "end_time": "2024-10-27T21:04:48.308774Z",
     "start_time": "2024-10-27T21:04:46.439863Z"
    }
   },
   "cell_type": "code",
   "source": [
    "shuman = pd.read_csv(\"data/sample_human_lots.csv\")\n",
    "slots = pd.read_csv(\"data/sample_lots.csv\")\n",
    "sreq_fea = pd.read_csv(\"data/sample_requests_features.csv\")\n",
    "shuman.info()\n",
    "slots.info()\n",
    "sreq_fea.info()\n",
    "scorer = Scorer()\n",
    "print(scorer.mq_score(sreq_fea, slots, shuman))"
   ],
   "id": "7c4ccce210ff7ee2",
   "outputs": [
    {
     "name": "stdout",
     "output_type": "stream",
     "text": [
      "<class 'pandas.core.frame.DataFrame'>\n",
      "RangeIndex: 880 entries, 0 to 879\n",
      "Data columns (total 2 columns):\n",
      " #   Column        Non-Null Count  Dtype\n",
      "---  ------        --------------  -----\n",
      " 0   request_id    880 non-null    int64\n",
      " 1   human_lot_id  880 non-null    int64\n",
      "dtypes: int64(2)\n",
      "memory usage: 13.9 KB\n",
      "<class 'pandas.core.frame.DataFrame'>\n",
      "RangeIndex: 880 entries, 0 to 879\n",
      "Data columns (total 2 columns):\n",
      " #   Column      Non-Null Count  Dtype\n",
      "---  ------      --------------  -----\n",
      " 0   request_id  880 non-null    int64\n",
      " 1   lot_id      880 non-null    int64\n",
      "dtypes: int64(2)\n",
      "memory usage: 13.9 KB\n",
      "<class 'pandas.core.frame.DataFrame'>\n",
      "RangeIndex: 250850 entries, 0 to 250849\n",
      "Data columns (total 27 columns):\n",
      " #   Column                                  Non-Null Count   Dtype  \n",
      "---  ------                                  --------------   -----  \n",
      " 0   request_id                              250850 non-null  int64  \n",
      " 1   order_dt                                250850 non-null  object \n",
      " 2   delivery_dt                             250850 non-null  object \n",
      " 3   receiver_id                             250850 non-null  int64  \n",
      " 4   receiver_address_id                     250850 non-null  int64  \n",
      " 5   receiver_address                        250850 non-null  object \n",
      " 6   receiver_address_latitude               250850 non-null  float64\n",
      " 7   receiver_address_longitude              250850 non-null  float64\n",
      " 8   receiver_address_coords_geo_confidence  250850 non-null  float64\n",
      " 9   class_id                                250850 non-null  int64  \n",
      " 10  class_name                              250850 non-null  object \n",
      " 11  standard_shipping                       250850 non-null  int64  \n",
      " 12  material_id                             250850 non-null  int64  \n",
      " 13  material_name                           250850 non-null  object \n",
      " 14  measure_unit                            250850 non-null  object \n",
      " 15  materials_amount                        250850 non-null  float64\n",
      " 16  material_price                          250850 non-null  float64\n",
      " 17  item_cost                               250850 non-null  float64\n",
      " 18  purchase_method                         233398 non-null  object \n",
      " 19  order_id                                250850 non-null  int64  \n",
      " 20  item_id                                 250850 non-null  int64  \n",
      " 21  client_id                               250850 non-null  int64  \n",
      " 22  supplier_id                             250850 non-null  int64  \n",
      " 23  supplier_address_id                     250850 non-null  int64  \n",
      " 24  supplier_address                        250850 non-null  object \n",
      " 25  supplier_address_latitude               250850 non-null  float64\n",
      " 26  supplier_address_longitude              250850 non-null  float64\n",
      "dtypes: float64(8), int64(11), object(8)\n",
      "memory usage: 51.7+ MB\n",
      "0.8043478260869565\n"
     ]
    }
   ],
   "execution_count": 63
  },
  {
   "metadata": {
    "ExecuteTime": {
     "end_time": "2024-10-27T22:16:42.431029Z",
     "start_time": "2024-10-27T22:16:41.961300Z"
    }
   },
   "cell_type": "code",
   "source": [
    "requests = req_fea.drop_duplicates(subset=[\"request_id\"])\n",
    "requests = requests.drop(\"human_lot_id\", axis=1)\n",
    "requests.info()\n",
    "lots.info()\n",
    "human_lots.info()\n",
    "\n"
   ],
   "id": "58ea7b5c002bb386",
   "outputs": [
    {
     "name": "stdout",
     "output_type": "stream",
     "text": [
      "<class 'pandas.core.frame.DataFrame'>\n",
      "Int64Index: 30284 entries, 0 to 9939806\n",
      "Data columns (total 27 columns):\n",
      " #   Column                                  Non-Null Count  Dtype  \n",
      "---  ------                                  --------------  -----  \n",
      " 0   request_id                              30284 non-null  int64  \n",
      " 1   order_dt                                30284 non-null  object \n",
      " 2   delivery_dt                             30284 non-null  object \n",
      " 3   receiver_id                             30284 non-null  int64  \n",
      " 4   receiver_address_id                     30284 non-null  int64  \n",
      " 5   receiver_address                        30284 non-null  object \n",
      " 6   reciever_lat                            30284 non-null  float64\n",
      " 7   reciever_long                           30284 non-null  float64\n",
      " 8   receiver_address_coords_geo_confidence  30284 non-null  float64\n",
      " 9   class_id                                30284 non-null  int64  \n",
      " 10  class_name                              30284 non-null  object \n",
      " 11  standard_shipping                       30284 non-null  int64  \n",
      " 12  material_id                             30284 non-null  int64  \n",
      " 13  material_name                           30284 non-null  object \n",
      " 14  measure_unit                            30284 non-null  object \n",
      " 15  materials_amount                        30284 non-null  float64\n",
      " 16  material_price                          30284 non-null  float64\n",
      " 17  item_cost                               30284 non-null  float64\n",
      " 18  purchase_method                         23928 non-null  object \n",
      " 19  order_id                                30284 non-null  int64  \n",
      " 20  item_id                                 30284 non-null  int64  \n",
      " 21  client_id                               30281 non-null  float64\n",
      " 22  supplier_id                             30284 non-null  int64  \n",
      " 23  supplier_address_id                     30284 non-null  int64  \n",
      " 24  supplier_address                        30284 non-null  object \n",
      " 25  supplier_address_latitude               30284 non-null  float64\n",
      " 26  supplier_address_longitude              30284 non-null  float64\n",
      "dtypes: float64(9), int64(10), object(8)\n",
      "memory usage: 6.5+ MB\n",
      "<class 'pandas.core.frame.DataFrame'>\n",
      "Int64Index: 30284 entries, 0 to 9939806\n",
      "Data columns (total 2 columns):\n",
      " #   Column      Non-Null Count  Dtype\n",
      "---  ------      --------------  -----\n",
      " 0   request_id  30284 non-null  int64\n",
      " 1   lot_id      30284 non-null  int64\n",
      "dtypes: int64(2)\n",
      "memory usage: 709.8 KB\n",
      "<class 'pandas.core.frame.DataFrame'>\n",
      "Int64Index: 30284 entries, 0 to 9939806\n",
      "Data columns (total 2 columns):\n",
      " #   Column        Non-Null Count  Dtype\n",
      "---  ------        --------------  -----\n",
      " 0   request_id    30284 non-null  int64\n",
      " 1   human_lot_id  30284 non-null  int64\n",
      "dtypes: int64(2)\n",
      "memory usage: 709.8 KB\n"
     ]
    }
   ],
   "execution_count": 19
  },
  {
   "metadata": {
    "ExecuteTime": {
     "end_time": "2024-10-27T22:17:09.207079Z",
     "start_time": "2024-10-27T22:17:09.171100Z"
    }
   },
   "cell_type": "code",
   "source": [
    "merged = pd.merge(requests, human_lots, on='request_id').groupby('human_lot_id')['item_cost'].sum().mean()\n",
    "# merged.info()\n",
    "merged"
   ],
   "id": "54473aeb53dafec9",
   "outputs": [
    {
     "data": {
      "text/plain": [
       "11442891.382653467"
      ]
     },
     "execution_count": 21,
     "metadata": {},
     "output_type": "execute_result"
    }
   ],
   "execution_count": 21
  },
  {
   "metadata": {
    "ExecuteTime": {
     "end_time": "2024-10-27T22:18:00.206826Z",
     "start_time": "2024-10-27T22:18:00.088894Z"
    }
   },
   "cell_type": "code",
   "source": [
    "scorer = Scorer()\n",
    "print(scorer.mq_score(requests, lots, human_lots))\n",
    "print(scorer.ms_score(requests, lots))"
   ],
   "id": "930cd302a197054b",
   "outputs": [
    {
     "name": "stdout",
     "output_type": "stream",
     "text": [
      "0.9956479690522244\n",
      "0.05925925925925926\n"
     ]
    }
   ],
   "execution_count": 24
  },
  {
   "metadata": {
    "ExecuteTime": {
     "end_time": "2024-10-27T20:24:27.798976Z",
     "start_time": "2024-10-27T19:44:52.899734Z"
    }
   },
   "cell_type": "code",
   "source": [
    "to_fit1 = X_train[[\"reciever_lat\", \"reciever_long\"]]\n",
    "\n",
    "score = []\n",
    "for i in range(6, 26):\n",
    "    pipe = Pipeline([\n",
    "            ('scaler', StandardScaler()),\n",
    "            ('clust', KMeans(i, random_state=42, n_init=10)),\n",
    "            ]).fit(to_fit1)\n",
    "\n",
    "    label_pred = pipe.predict(to_fit1)\n",
    "    score.append(pipe[1].inertia_)\n",
    "    print(label_pred)\n",
    "plt.plot(np.arange(6,26), score)"
   ],
   "id": "ee3d42fc93a393f2",
   "outputs": [
    {
     "name": "stdout",
     "output_type": "stream",
     "text": [
      "[2 2 2 ... 3 3 3]\n",
      "[3 3 3 ... 2 2 2]\n",
      "[3 3 3 ... 4 4 4]\n",
      "[4 4 4 ... 7 7 7]\n",
      "[7 7 7 ... 8 8 8]\n",
      "[7 7 7 ... 9 9 9]\n",
      "[9 9 9 ... 0 0 0]\n",
      "[9 9 9 ... 4 4 4]\n",
      "[1 1 1 ... 2 2 2]\n",
      "[9 9 9 ... 2 2 2]\n",
      "[8 8 8 ... 3 3 3]\n",
      "[11 11 11 ...  4  4  4]\n",
      "[9 9 9 ... 3 3 3]\n",
      "[8 8 8 ... 4 4 4]\n",
      "[10 10 10 ...  8  8  8]\n",
      "[12 12 12 ...  4  4  4]\n",
      "[5 5 5 ... 3 3 3]\n",
      "[10 10 10 ...  4  4  4]\n",
      "[ 8  8  8 ... 11 11 11]\n",
      "[8 8 8 ... 7 7 7]\n"
     ]
    },
    {
     "ename": "ValueError",
     "evalue": "x and y must have same first dimension, but have shapes (14,) and (20,)",
     "output_type": "error",
     "traceback": [
      "\u001B[1;31m---------------------------------------------------------------------------\u001B[0m",
      "\u001B[1;31mValueError\u001B[0m                                Traceback (most recent call last)",
      "Input \u001B[1;32mIn [32]\u001B[0m, in \u001B[0;36m<cell line: 13>\u001B[1;34m()\u001B[0m\n\u001B[0;32m     11\u001B[0m     score\u001B[38;5;241m.\u001B[39mappend(pipe[\u001B[38;5;241m1\u001B[39m]\u001B[38;5;241m.\u001B[39minertia_)\n\u001B[0;32m     12\u001B[0m     \u001B[38;5;28mprint\u001B[39m(label_pred)\n\u001B[1;32m---> 13\u001B[0m \u001B[43mplt\u001B[49m\u001B[38;5;241;43m.\u001B[39;49m\u001B[43mplot\u001B[49m\u001B[43m(\u001B[49m\u001B[43mnp\u001B[49m\u001B[38;5;241;43m.\u001B[39;49m\u001B[43marange\u001B[49m\u001B[43m(\u001B[49m\u001B[38;5;241;43m2\u001B[39;49m\u001B[43m,\u001B[49m\u001B[38;5;241;43m16\u001B[39;49m\u001B[43m)\u001B[49m\u001B[43m,\u001B[49m\u001B[43m \u001B[49m\u001B[43mscore\u001B[49m\u001B[43m)\u001B[49m\n",
      "File \u001B[1;32m~\\anaconda3\\lib\\site-packages\\matplotlib\\pyplot.py:2757\u001B[0m, in \u001B[0;36mplot\u001B[1;34m(scalex, scaley, data, *args, **kwargs)\u001B[0m\n\u001B[0;32m   2755\u001B[0m \u001B[38;5;129m@_copy_docstring_and_deprecators\u001B[39m(Axes\u001B[38;5;241m.\u001B[39mplot)\n\u001B[0;32m   2756\u001B[0m \u001B[38;5;28;01mdef\u001B[39;00m \u001B[38;5;21mplot\u001B[39m(\u001B[38;5;241m*\u001B[39margs, scalex\u001B[38;5;241m=\u001B[39m\u001B[38;5;28;01mTrue\u001B[39;00m, scaley\u001B[38;5;241m=\u001B[39m\u001B[38;5;28;01mTrue\u001B[39;00m, data\u001B[38;5;241m=\u001B[39m\u001B[38;5;28;01mNone\u001B[39;00m, \u001B[38;5;241m*\u001B[39m\u001B[38;5;241m*\u001B[39mkwargs):\n\u001B[1;32m-> 2757\u001B[0m     \u001B[38;5;28;01mreturn\u001B[39;00m gca()\u001B[38;5;241m.\u001B[39mplot(\n\u001B[0;32m   2758\u001B[0m         \u001B[38;5;241m*\u001B[39margs, scalex\u001B[38;5;241m=\u001B[39mscalex, scaley\u001B[38;5;241m=\u001B[39mscaley,\n\u001B[0;32m   2759\u001B[0m         \u001B[38;5;241m*\u001B[39m\u001B[38;5;241m*\u001B[39m({\u001B[38;5;124m\"\u001B[39m\u001B[38;5;124mdata\u001B[39m\u001B[38;5;124m\"\u001B[39m: data} \u001B[38;5;28;01mif\u001B[39;00m data \u001B[38;5;129;01mis\u001B[39;00m \u001B[38;5;129;01mnot\u001B[39;00m \u001B[38;5;28;01mNone\u001B[39;00m \u001B[38;5;28;01melse\u001B[39;00m {}), \u001B[38;5;241m*\u001B[39m\u001B[38;5;241m*\u001B[39mkwargs)\n",
      "File \u001B[1;32m~\\anaconda3\\lib\\site-packages\\matplotlib\\axes\\_axes.py:1632\u001B[0m, in \u001B[0;36mAxes.plot\u001B[1;34m(self, scalex, scaley, data, *args, **kwargs)\u001B[0m\n\u001B[0;32m   1390\u001B[0m \u001B[38;5;124;03m\"\"\"\u001B[39;00m\n\u001B[0;32m   1391\u001B[0m \u001B[38;5;124;03mPlot y versus x as lines and/or markers.\u001B[39;00m\n\u001B[0;32m   1392\u001B[0m \n\u001B[1;32m   (...)\u001B[0m\n\u001B[0;32m   1629\u001B[0m \u001B[38;5;124;03m(``'green'``) or hex strings (``'#008000'``).\u001B[39;00m\n\u001B[0;32m   1630\u001B[0m \u001B[38;5;124;03m\"\"\"\u001B[39;00m\n\u001B[0;32m   1631\u001B[0m kwargs \u001B[38;5;241m=\u001B[39m cbook\u001B[38;5;241m.\u001B[39mnormalize_kwargs(kwargs, mlines\u001B[38;5;241m.\u001B[39mLine2D)\n\u001B[1;32m-> 1632\u001B[0m lines \u001B[38;5;241m=\u001B[39m [\u001B[38;5;241m*\u001B[39m\u001B[38;5;28mself\u001B[39m\u001B[38;5;241m.\u001B[39m_get_lines(\u001B[38;5;241m*\u001B[39margs, data\u001B[38;5;241m=\u001B[39mdata, \u001B[38;5;241m*\u001B[39m\u001B[38;5;241m*\u001B[39mkwargs)]\n\u001B[0;32m   1633\u001B[0m \u001B[38;5;28;01mfor\u001B[39;00m line \u001B[38;5;129;01min\u001B[39;00m lines:\n\u001B[0;32m   1634\u001B[0m     \u001B[38;5;28mself\u001B[39m\u001B[38;5;241m.\u001B[39madd_line(line)\n",
      "File \u001B[1;32m~\\anaconda3\\lib\\site-packages\\matplotlib\\axes\\_base.py:312\u001B[0m, in \u001B[0;36m_process_plot_var_args.__call__\u001B[1;34m(self, data, *args, **kwargs)\u001B[0m\n\u001B[0;32m    310\u001B[0m     this \u001B[38;5;241m+\u001B[39m\u001B[38;5;241m=\u001B[39m args[\u001B[38;5;241m0\u001B[39m],\n\u001B[0;32m    311\u001B[0m     args \u001B[38;5;241m=\u001B[39m args[\u001B[38;5;241m1\u001B[39m:]\n\u001B[1;32m--> 312\u001B[0m \u001B[38;5;28;01myield from\u001B[39;00m \u001B[38;5;28;43mself\u001B[39;49m\u001B[38;5;241;43m.\u001B[39;49m\u001B[43m_plot_args\u001B[49m\u001B[43m(\u001B[49m\u001B[43mthis\u001B[49m\u001B[43m,\u001B[49m\u001B[43m \u001B[49m\u001B[43mkwargs\u001B[49m\u001B[43m)\u001B[49m\n",
      "File \u001B[1;32m~\\anaconda3\\lib\\site-packages\\matplotlib\\axes\\_base.py:498\u001B[0m, in \u001B[0;36m_process_plot_var_args._plot_args\u001B[1;34m(self, tup, kwargs, return_kwargs)\u001B[0m\n\u001B[0;32m    495\u001B[0m     \u001B[38;5;28mself\u001B[39m\u001B[38;5;241m.\u001B[39maxes\u001B[38;5;241m.\u001B[39myaxis\u001B[38;5;241m.\u001B[39mupdate_units(y)\n\u001B[0;32m    497\u001B[0m \u001B[38;5;28;01mif\u001B[39;00m x\u001B[38;5;241m.\u001B[39mshape[\u001B[38;5;241m0\u001B[39m] \u001B[38;5;241m!=\u001B[39m y\u001B[38;5;241m.\u001B[39mshape[\u001B[38;5;241m0\u001B[39m]:\n\u001B[1;32m--> 498\u001B[0m     \u001B[38;5;28;01mraise\u001B[39;00m \u001B[38;5;167;01mValueError\u001B[39;00m(\u001B[38;5;124mf\u001B[39m\u001B[38;5;124m\"\u001B[39m\u001B[38;5;124mx and y must have same first dimension, but \u001B[39m\u001B[38;5;124m\"\u001B[39m\n\u001B[0;32m    499\u001B[0m                      \u001B[38;5;124mf\u001B[39m\u001B[38;5;124m\"\u001B[39m\u001B[38;5;124mhave shapes \u001B[39m\u001B[38;5;132;01m{\u001B[39;00mx\u001B[38;5;241m.\u001B[39mshape\u001B[38;5;132;01m}\u001B[39;00m\u001B[38;5;124m and \u001B[39m\u001B[38;5;132;01m{\u001B[39;00my\u001B[38;5;241m.\u001B[39mshape\u001B[38;5;132;01m}\u001B[39;00m\u001B[38;5;124m\"\u001B[39m)\n\u001B[0;32m    500\u001B[0m \u001B[38;5;28;01mif\u001B[39;00m x\u001B[38;5;241m.\u001B[39mndim \u001B[38;5;241m>\u001B[39m \u001B[38;5;241m2\u001B[39m \u001B[38;5;129;01mor\u001B[39;00m y\u001B[38;5;241m.\u001B[39mndim \u001B[38;5;241m>\u001B[39m \u001B[38;5;241m2\u001B[39m:\n\u001B[0;32m    501\u001B[0m     \u001B[38;5;28;01mraise\u001B[39;00m \u001B[38;5;167;01mValueError\u001B[39;00m(\u001B[38;5;124mf\u001B[39m\u001B[38;5;124m\"\u001B[39m\u001B[38;5;124mx and y can be no greater than 2D, but have \u001B[39m\u001B[38;5;124m\"\u001B[39m\n\u001B[0;32m    502\u001B[0m                      \u001B[38;5;124mf\u001B[39m\u001B[38;5;124m\"\u001B[39m\u001B[38;5;124mshapes \u001B[39m\u001B[38;5;132;01m{\u001B[39;00mx\u001B[38;5;241m.\u001B[39mshape\u001B[38;5;132;01m}\u001B[39;00m\u001B[38;5;124m and \u001B[39m\u001B[38;5;132;01m{\u001B[39;00my\u001B[38;5;241m.\u001B[39mshape\u001B[38;5;132;01m}\u001B[39;00m\u001B[38;5;124m\"\u001B[39m)\n",
      "\u001B[1;31mValueError\u001B[0m: x and y must have same first dimension, but have shapes (14,) and (20,)"
     ]
    },
    {
     "data": {
      "text/plain": [
       "<Figure size 432x288 with 1 Axes>"
      ],
      "image/png": "[encoded data removed]"
     },
     "metadata": {
      "needs_background": "light"
     },
     "output_type": "display_data"
    }
   ],
   "execution_count": 32
  },
  {
   "metadata": {
    "ExecuteTime": {
     "end_time": "2024-10-27T20:25:41.881360Z",
     "start_time": "2024-10-27T20:25:41.737447Z"
    }
   },
   "cell_type": "code",
   "source": "plt.plot(np.arange(6,26), score)",
   "id": "1ce0ecc8138fb6f5",
   "outputs": [
    {
     "data": {
      "text/plain": [
       "[<matplotlib.lines.Line2D at 0x26ea967f310>]"
      ]
     },
     "execution_count": 33,
     "metadata": {},
     "output_type": "execute_result"
    },
    {
     "data": {
      "text/plain": [
       "<Figure size 432x288 with 1 Axes>"
      ],
      "image/png": "[encoded data removed]"
     },
     "metadata": {
      "needs_background": "light"
     },
     "output_type": "display_data"
    }
   ],
   "execution_count": 33
  },
  {
   "metadata": {},
   "cell_type": "code",
   "outputs": [],
   "execution_count": null,
   "source": "",
   "id": "b58c341473e86fd0"
  }
 ],
 "metadata": {
  "kernelspec": {
   "display_name": "Python 3",
   "language": "python",
   "name": "python3"
  },
  "language_info": {
   "codemirror_mode": {
    "name": "ipython",
    "version": 2
   },
   "file_extension": ".py",
   "mimetype": "text/x-python",
   "name": "python",
   "nbconvert_exporter": "python",
   "pygments_lexer": "ipython2",
   "version": "2.7.6"
  }
 },
 "nbformat": 4,
 "nbformat_minor": 5
}
