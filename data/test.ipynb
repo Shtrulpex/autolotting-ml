{
 "cells": [
  {
   "cell_type": "code",
   "execution_count": 265,
   "id": "4bf4321c-4873-4bba-a8ee-6ea08b5e2d85",
   "metadata": {},
   "outputs": [],
   "source": [
    "import numpy as np\n",
    "import pandas as pd\n",
    "import datetime\n",
    "from geopy.geocoders import Nominatim\n",
    "import pgeocode\n",
    "import re\n",
    "import copy\n",
    "import math\n",
    "\n",
    "from ipywidgets import IntProgress\n",
    "from IPython.display import display\n",
    "\n",
    "import haversine as hs\n",
    "from haversine import Unit"
   ]
  },
  {
   "cell_type": "code",
   "execution_count": null,
   "id": "7366a01a-feb9-4993-988c-aa7f075ff640",
   "metadata": {},
   "outputs": [],
   "source": [
    "data = pd.read_csv(\"./Data/Исторические совершенные закупки товаров.csv\")\n",
    "data.head()"
   ]
  },
  {
   "cell_type": "code",
   "execution_count": null,
   "id": "0b7d06ed-87d5-437a-84e9-bb9b70e913c5",
   "metadata": {},
   "outputs": [],
   "source": [
    "template = pd.DataFrame(columns = ['Клиент', 'Материал', 'Краткий текст материала', 'ЕИ',\n",
    "                                   'Общее количество', 'Месяц поставки', 'Год поставки',\n",
    "                                   'Полугодие', 'Срок поставки', 'Грузополучатель', 'Цена',\n",
    "                                   'Способ закупки', '№ заказа', '№ позиции', 'Дата заказа',\n",
    "                                   'ID Лота'])\n",
    "template"
   ]
  },
  {
   "cell_type": "code",
   "execution_count": null,
   "id": "4a18e61e-57fa-45fe-83f1-13b60ef4d8a6",
   "metadata": {},
   "outputs": [],
   "source": [
    "data_columns = ['Клиент', 'Материал', 'Материал Имя', 'АЕИ заказа', 'Кол-во к закупу, АЕИ', \n",
    "                'Срок поставки', 'Срок поставки', 'Срок поставки', 'Срок поставки', 'Грузополучатель', \n",
    "                'Пл.цена с НДС за АЕИ', 'ГПЗ Способ закупки', 'Заявка на закупку', 'Позиц.', \n",
    "                'Дата заявки', 'ID лота']"
   ]
  },
  {
   "cell_type": "code",
   "execution_count": null,
   "id": "70add712-b3dd-4215-ad4d-813bf08b0ef3",
   "metadata": {},
   "outputs": [],
   "source": [
    "for col_data, col_temp in zip(data_columns, template.columns):\n",
    "    template[col_temp] = data[col_data]"
   ]
  },
  {
   "cell_type": "code",
   "execution_count": null,
   "id": "aa46b69e-f7fd-442f-b450-afb2ac9897fb",
   "metadata": {},
   "outputs": [],
   "source": [
    "template.head()"
   ]
  },
  {
   "cell_type": "code",
   "execution_count": null,
   "id": "83e9a016-d24e-4d51-9b41-01e4dae63210",
   "metadata": {},
   "outputs": [],
   "source": [
    "template['Месяц поставки'] = pd.DatetimeIndex(template['Срок поставки']).month\n",
    "template['Год поставки'] = pd.DatetimeIndex(template['Срок поставки']).year\n",
    "template['Полугодие'] = (template['Месяц поставки'] > 6) + 1"
   ]
  },
  {
   "cell_type": "code",
   "execution_count": null,
   "id": "aa3bbe61-5967-40aa-bcfd-59848c838b0e",
   "metadata": {},
   "outputs": [],
   "source": [
    "grouped_template = template.groupby(by = [pd.DatetimeIndex(template['Дата заказа']).year, \n",
    "                                          pd.DatetimeIndex(template['Дата заказа']).month])"
   ]
  },
  {
   "cell_type": "code",
   "execution_count": null,
   "id": "2e998601-d4f6-4ff9-84e3-ef793894a66a",
   "metadata": {},
   "outputs": [],
   "source": [
    "for key, item in grouped_template:\n",
    "    #print(key, item)\n",
    "    date = str(key[0])+str(key[1])\n",
    "    date = datetime.datetime.strptime(date, '%Y%m')\n",
    "    #item['Дата заказа'] = [date]*item.shape[0]\n",
    "    item.reset_index(drop = True)\n",
    "    item.to_csv('./Data/data/'+str(key[0])+'-'+str(key[1])+'.csv', index = False)"
   ]
  },
  {
   "cell_type": "markdown",
   "id": "c525fde9-2e0d-4e59-899f-889577f7ea88",
   "metadata": {},
   "source": [
    "# Задача конвертации адресов в координаты и поиска расстояний между ними"
   ]
  },
  {
   "cell_type": "code",
   "execution_count": 288,
   "id": "38001989-0ca2-404e-a66d-d3b70959eb4e",
   "metadata": {},
   "outputs": [
    {
     "name": "stdin",
     "output_type": "stream",
     "text": [
      "Введите адрес: \n",
      " россия москва\n"
     ]
    },
    {
     "name": "stdout",
     "output_type": "stream",
     "text": [
      "Москва, Центральный федеральный округ, Россия\n",
      "55.625578 37.6063916\n"
     ]
    }
   ],
   "source": [
    "geolocator = Nominatim(user_agent=\"Tester\") #Указываем название приложения (так нужно, да)\n",
    "adress = str(input('Введите адрес: \\n')) #Получаем интересующий нас адрес\n",
    "location = geolocator.geocode(adress) #Создаем переменную, которая состоит из нужного нам адреса\n",
    "print(location) #Выводим результат: адрес в полном виде\n",
    "print(location.latitude, location.longitude) #И теперь выводим GPS-координаты нужного нам адреса"
   ]
  },
  {
   "cell_type": "code",
   "execution_count": null,
   "id": "e9a52648-6089-474e-8499-9b4af7ef2508",
   "metadata": {},
   "outputs": [],
   "source": [
    "postal_codes = pgeocode.Nominatim('RU')\n",
    "print(postal_codes.query_postal_code(\"796902\"))"
   ]
  },
  {
   "cell_type": "code",
   "execution_count": null,
   "id": "8ac31f61-b5cc-4af3-9fc5-d7207e6925f3",
   "metadata": {},
   "outputs": [],
   "source": [
    "def find_by_postal_code(postal_code, country = 'RU'):\n",
    "    \"\"\"\n",
    "    postal code: str\n",
    "    country: str, eg 'RU', 'US' (see pgeocode)\n",
    "    returns latitude and longitude or None\n",
    "    \"\"\"\n",
    "    #print('find_by_postal_code')\n",
    "    postal_codes = pgeocode.Nominatim(country)\n",
    "    ans = postal_codes.query_postal_code(postal_code)\n",
    "    if ans is None:\n",
    "        return ans\n",
    "    lat, lon = ans['latitude'], ans['longitude'] \n",
    "    return [lat, lon]\n",
    "    "
   ]
  },
  {
   "cell_type": "code",
   "execution_count": null,
   "id": "9e33235d-d70a-4f86-971a-ed8000b4e61f",
   "metadata": {},
   "outputs": [],
   "source": [
    "def find_by_special_name(words, names_list, ident = -1):\n",
    "    \"\"\"\n",
    "    words: the list of separated words where to find name\n",
    "    names_list: list of possible special names\n",
    "    ident: where to search for the name: before or after the special word, +1 or -1 \n",
    "    or any possible integer. The program will return all the words in the gap,\n",
    "    for example for ident = -2 two words will be returned\n",
    "    returns the whole name without the special word\n",
    "    \"\"\"\n",
    "    #print('find_by_special_name')\n",
    "    for name in names_list:\n",
    "        if name in words:\n",
    "            if name == 'м':\n",
    "                print(\">\", words)\n",
    "            i = words.index(name)\n",
    "            left, right = min(i, i+ident if i+ident >= 0 else 0), max(i, i+ident)\n",
    "            query = []\n",
    "            while left < right:\n",
    "                query.append(words[left])\n",
    "                left += 1\n",
    "            if name == 'м':\n",
    "                print('<', query)\n",
    "            return ''.join(query)\n",
    "    return None"
   ]
  },
  {
   "cell_type": "code",
   "execution_count": null,
   "id": "dd017e87-5d90-4bdd-aa49-d843ae536000",
   "metadata": {},
   "outputs": [],
   "source": [
    "def location_by_query(query):\n",
    "    #print('location_by_query', query)\n",
    "    geolocator = Nominatim(user_agent=\"Tester\")\n",
    "    location = geolocator.geocode(query)\n",
    "    if location is not None:\n",
    "        location = str(location).split(' ')\n",
    "        return [location[-2], location[-1]]\n",
    "    return None"
   ]
  },
  {
   "cell_type": "code",
   "execution_count": null,
   "id": "99c65525-b79c-47d1-8d08-4ca8fc3f5083",
   "metadata": {},
   "outputs": [],
   "source": [
    "def check_by_special_name(words, names, ident = -1):\n",
    "    \"\"\"\n",
    "    words: an adress word by word\n",
    "    names: special names, names[0] is the main word used for the location query\n",
    "    ident: -||-\n",
    "    returns location or None\n",
    "    \"\"\"\n",
    "    #print('check_by_special_name', words, names)\n",
    "    ans = find_by_special_name(words, names)\n",
    "    if ans is not None:\n",
    "        query = 'Россия' + ', ' + names[0] + '. ' + ans\n",
    "        ans = location_by_query(query)\n",
    "        return ans"
   ]
  },
  {
   "cell_type": "code",
   "execution_count": null,
   "id": "940c51f3-cb9e-4a47-bdbf-d624060f7162",
   "metadata": {},
   "outputs": [],
   "source": [
    "def find_coords(adress):\n",
    "    \"\"\"\n",
    "    adress: str in a free form\n",
    "    returns: [latitude, longitude]\n",
    "    \"\"\"\n",
    "        \n",
    "        \n",
    "    # Возможно, у нас будет несколько вариантов для координат\n",
    "    lat, lon, postal_code = 0, 0, 0\n",
    "    \n",
    "    #Давайте попытаемся разбить адрес на \"слова\"\n",
    "    adr = adress.lower()\n",
    "    words = re.findall('\\w+', adr)\n",
    "    #print(words)\n",
    "    \n",
    "    #Теперь погнали искать почтовый индекс РФ - 6 цифр\n",
    "    for el in words:\n",
    "        if el.isdigit() and len(el) == 6:\n",
    "            postal_code = el\n",
    "            ans = find_by_postal_code(postal_code)\n",
    "            # Если мы нашли координаты по почтовому индексу, \n",
    "            # мы вряд ли найдем что-то лучше\n",
    "            if ans[0] is not None and ans[1] is not None:\n",
    "                return ans\n",
    "            \n",
    "    # Почтовый индекс мы не нашли, или по нему ничего нет\n",
    "    # Дела наши плохи и плачевны, будем тыркать систему запросами\n",
    "    special_words = ['г', 'город',\n",
    "                     'ул', 'улица',\n",
    "                     'обл', 'область',\n",
    "                     'с.', 'село',\n",
    "                     'ст', 'станция',\n",
    "                     'пос', 'поселок', 'посёлок', 'п',\n",
    "                     'м/р', 'месторождение',\n",
    "                     'пгт',\n",
    "                     'порт', 'аэропорт']\n",
    "    q_words = ['Россия']\n",
    "\n",
    "    # Для начала давайте попробуем найти по городу\n",
    "    for ident in [-2, -1, 1, 2]:\n",
    "        ans = check_by_special_name(words, ['г', 'город'], ident)\n",
    "        if ans is not None:\n",
    "            return ans\n",
    "        \n",
    "    # Теперь по поселкам\n",
    "    ans = check_by_special_name(words, ['п', 'пос', 'поселок', 'посёлок'], 1)\n",
    "    if ans is not None:\n",
    "        return ans\n",
    "    \n",
    "    # Теперь месторождения\n",
    "    for ident in [-2, -1, 1, 2]:\n",
    "        ans = check_by_special_name(words, ['месторождение', 'м'], ident)\n",
    "        if ans is not None:\n",
    "            return ans    \n",
    "        \n",
    "    # Теперь нам бы хотя бы область узнать\n",
    "    for ident in [-2, -1, 1, 2]:\n",
    "        ans = check_by_special_name(words, ['обл', 'область'], ident)\n",
    "        if ans is not None:\n",
    "            return ans\n",
    "    \n",
    "    # Станция?\n",
    "    for ident in [-2, -1, 1, 2]:\n",
    "        ans = check_by_special_name(words, ['станция', 'ст'], ident)\n",
    "        if ans is not None:\n",
    "            return ans\n",
    "        \n",
    "    return None"
   ]
  },
  {
   "cell_type": "code",
   "execution_count": null,
   "id": "3fa15f87-225f-4069-adc5-b6f0eec60a03",
   "metadata": {},
   "outputs": [],
   "source": [
    "coords = pd.DataFrame(columns = ['Код грузополучателя', 'Адрес грузополучателя', 'Долгота', 'Широта'])\n",
    "problematic = []\n",
    "bar = IntProgress(min=0, max=adresses.shape[0]) # instantiate the bar\n",
    "display(bar) # display the bar\n",
    "\n",
    "for line in adresses['Адрес грузополучателя']:\n",
    "    res = find_coords(line)\n",
    "    if res is not None:\n",
    "        coords.loc[-1] = [0, line, res[1], res[0]]\n",
    "        coords.index = coords.index + 1\n",
    "        #coords = coords.sort_index()\n",
    "    else:\n",
    "        problematic.append(line)\n",
    "    bar.value += 1 # signal to increment the progress bar"
   ]
  },
  {
   "cell_type": "code",
   "execution_count": null,
   "id": "8f64ac0d-d3d3-4881-b788-0ee04eea1856",
   "metadata": {},
   "outputs": [],
   "source": [
    "problematic"
   ]
  },
  {
   "cell_type": "code",
   "execution_count": null,
   "id": "31307b9f-ed77-41da-b823-9729049d0778",
   "metadata": {},
   "outputs": [],
   "source": [
    "coords"
   ]
  },
  {
   "cell_type": "code",
   "execution_count": null,
   "id": "f11b1873-3ebc-4672-a93b-36d985732481",
   "metadata": {},
   "outputs": [],
   "source": [
    "re.findall('\\w+', 'Новогоднее м/р, ПС-35/6кВ К-95 ')"
   ]
  },
  {
   "cell_type": "code",
   "execution_count": null,
   "id": "a873ba97-21ce-429c-8e49-4ecfe08bd0fd",
   "metadata": {},
   "outputs": [],
   "source": [
    "coords.to_csv('./Data/coords_temp.csv', index = False)"
   ]
  },
  {
   "cell_type": "markdown",
   "id": "46d0f22b-da22-4b0f-a180-a70aa989efc6",
   "metadata": {},
   "source": [
    "# Класс GeoSolver()"
   ]
  },
  {
   "cell_type": "code",
   "execution_count": 298,
   "id": "942bff13-97ad-41e2-8e4b-0bd730964008",
   "metadata": {},
   "outputs": [],
   "source": [
    "class GeoSolver():\n",
    "    \n",
    "    \"\"\"\n",
    "    Определяет координаты места по адресу, записанному\n",
    "    в произвольном виде, а также расстояние между двумя\n",
    "    точками. Работает только для России и +- нормально\n",
    "    отработает только на данных для нашей конкретной \n",
    "    задачи.\n",
    "    \"\"\"\n",
    "    \n",
    "    def __init__(self):\n",
    "        self.__geolocator = Nominatim(user_agent=\"Tester\")\n",
    "        self.__postal_codes = pgeocode.Nominatim('RU')\n",
    "        self.__special_words = [ 'г', 'город',\n",
    "                                 'пос', 'поселок', 'посёлок', 'п',\n",
    "                                 'с', 'село',\n",
    "                                 'ст', 'станция',\n",
    "                                 'м/р', 'месторождение',\n",
    "                                 'пгт',\n",
    "                                 'порт', 'аэропорт',\n",
    "                                 'район',\n",
    "                                 'обл', 'область', \n",
    "                                 'регион', 'р', 'округ', 'республика', 'респ'\n",
    "                                 ]\n",
    "        \n",
    "    def find_distance(self, loc1, loc2):\n",
    "        \"\"\"\n",
    "        (широта, долгота)\n",
    "        возвращает расстояние по прямой в км\n",
    "        \"\"\"\n",
    "        return hs.haversine(loc1, loc2, unit=Unit.KILOMETERS)\n",
    "    \n",
    "    \n",
    "    def check_by_special_name(self, words, name, ident = -1):\n",
    "        \"\"\"\n",
    "        words: список из отдельных слов, составляющих адрес, без пробелов и знаков препинания\n",
    "        names: опозновательные слова: \"г\", \"город\", и т.д.\n",
    "        ident: в каких пределах ищем имя\n",
    "        return: позицию по широте и долготе или None\n",
    "        \"\"\"\n",
    "        #print('check_by_special_name', words, names)\n",
    "        ans = self.find_by_special_name(words, name, ident)\n",
    "        #print(ans)\n",
    "        if len(ans) > 0:\n",
    "            for q in ans:\n",
    "                query = 'Россия' + ', ' + name + ' ' + q\n",
    "                #print(f'check: {query}')\n",
    "                ans = self.location_by_query(query)\n",
    "                if ans is not None:\n",
    "                    return ans\n",
    "        \n",
    "        \n",
    "    def find_by_special_name(self, words, name, ident = -1):\n",
    "        \"\"\"\n",
    "        words: the list of separated words where to find name\n",
    "        names_list: list of possible special names\n",
    "        ident: where to search for the name: before or after the special word, +1 or -1 \n",
    "        or any possible integer. The program will return all the words in the gap,\n",
    "        for example for ident = -2 two words will be returned\n",
    "        returns the whole name without the special word\n",
    "        \"\"\"\n",
    "        #print('find_by_special_name')\n",
    "        #print(f'names_list: {name}, {ident}')\n",
    "        query = []\n",
    "        for i, el in enumerate(words):\n",
    "            if name == el:\n",
    "                #print(f'>found {name} in words')\n",
    "                q = []\n",
    "                #print(f'i: {i}, ident = {ident}')\n",
    "                left, right = min(i+1 if i+1 < len(words) else len(words)-1, (i+ident if i+ident >= 0 else 0)), \\\n",
    "                              max(i-1 if i-1 >= 0 else 0, (i+ident if i+ident < len(words) else len(words)-1))\n",
    "                #print(f'>> [{left}; {right}]')\n",
    "                while left < right:\n",
    "                    q.append(words[left])\n",
    "                    left += 1\n",
    "                #print(q)\n",
    "                if len(q) > 0:\n",
    "                    query.append(''.join(q))\n",
    "        return query\n",
    "    \n",
    "    \n",
    "    def location_by_query(self, query):\n",
    "        #print('location_by_query', query)\n",
    "        try:\n",
    "            location = self.__geolocator.geocode(query)\n",
    "            if location is not None:\n",
    "                return [location.latitude, location.longitude]\n",
    "        except:\n",
    "            print(f'Ошибка! {query}')\n",
    "        return None\n",
    "    \n",
    "    \n",
    "    def find_by_postal_code(self, postal_code, country = 'RU'):\n",
    "        \"\"\"\n",
    "        postal code: str\n",
    "        country: str, eg 'RU', 'US' (see pgeocode)\n",
    "        returns latitude and longitude or None\n",
    "        \"\"\"\n",
    "        #print('find_by_postal_code')\n",
    "        ans = None\n",
    "        try:\n",
    "            ans = self.__postal_codes.query_postal_code(postal_code)\n",
    "        except:\n",
    "            print(f'Ошибка! postal_code: {postal_code}')\n",
    "        if ans is None:\n",
    "            return ans\n",
    "        lat, lon = ans['latitude'], ans['longitude'] \n",
    "        return [lat, lon]\n",
    "    \n",
    "    \n",
    "    def find_coords(self, adress):\n",
    "        \"\"\"\n",
    "        adress: строка. Адрес записан в произвольном формате\n",
    "        returns: [широта, долгота]\n",
    "        \"\"\"\n",
    "        #print(adress)\n",
    "\n",
    "        # Возможно, у нас будет несколько вариантов для координат\n",
    "        lat, lon, postal_code = 0, 0, 0\n",
    "\n",
    "        #Давайте попытаемся разбить адрес на \"слова\"\n",
    "        adr = adress.lower()\n",
    "        words = re.findall('\\w+', adr)\n",
    "        #print(words)\n",
    "\n",
    "        #Теперь погнали искать почтовый индекс РФ - 6 цифр\n",
    "        #Делаем это в первую очередь из-за вида данных\n",
    "        for el in words:\n",
    "            if el.isdigit() and len(el) == 6:\n",
    "                postal_code = el\n",
    "                ans = self.find_by_postal_code(postal_code)\n",
    "                # Если мы нашли координаты по почтовому индексу, \n",
    "                # мы вряд ли найдем что-то лучше\n",
    "                if (ans[0] is not None) and \\\n",
    "                    (ans[1] is not None) and \\\n",
    "                    (not np.isnan(ans[0]) and not np.isnan(ans[1])):\n",
    "                    return ans, 1.\n",
    "\n",
    "        # Почтовый индекс мы не нашли, или по нему ничего нет\n",
    "        # Дела наши плохи и плачевны, будем тыркать систему запросами\n",
    "\n",
    "        # Для начала давайте попробуем найти по ключевым словам в порядке\n",
    "        # убывания точности запроса\n",
    "        for name in self.__special_words:\n",
    "            #print(f'------- ident in find_coords: {i}')\n",
    "            for i in [-2, -1, 1, 2]:\n",
    "                ans = self.check_by_special_name(words, name, i)\n",
    "                if ans is not None:\n",
    "                    return ans, 0.5\n",
    "                \n",
    "        # Дела совсем плохи, давайте попробуем найти по отдельным\n",
    "        # словам, может что-то получится\n",
    "        # Идем с конца, так как более точные данные обычно\n",
    "        # лежат в конце\n",
    "        for el in words[::-1]:\n",
    "            ans = self.location_by_query(el)\n",
    "            if ans is not None:\n",
    "                return ans, 0.\n",
    "                \n",
    "        \n",
    "        return None\n",
    "    \n",
    "    \n",
    "    def pd_calc(self, data):\n",
    "        \"\"\"\n",
    "        Обрабатывает данные из pd.DataFrame и возвращает таблицу с доп. колонками\n",
    "        широтой и долготой, заточена иключительно под нашу задачу (т.е один конкретный\n",
    "        файл с грузополучателями)\n",
    "        \"\"\"\n",
    "        #coords = pd.DataFrame(columns = ['Код грузополучателя', 'Адрес грузополучателя', 'Долгота', 'Широта'])\n",
    "        problematic = []\n",
    "        coords = []\n",
    "        bar = IntProgress(min=0, max=adresses.shape[0]) # instantiate the bar\n",
    "        display(bar)                                    # display the bar\n",
    "\n",
    "        for line, code in zip(data['Адрес грузополучателя'], data['Код грузополучателя']):\n",
    "            res = self.find_coords(line)\n",
    "            if res is not None:\n",
    "                if np.isnan(res[0][0]) or np.isnan(res[0][1]):\n",
    "                    print(f'WARNING! NaN: {line}')\n",
    "                coords.append([code, line, res[0][1], res[0][0], res[1]])\n",
    "            else:\n",
    "                problematic.append(line)\n",
    "            bar.value += 1 # signal to increment the progress bar\n",
    "        \n",
    "        coords = pd.DataFrame(coords, columns = ['Код грузополучателя', \n",
    "                                                 'Адрес грузополучателя', 'Долгота', \n",
    "                                                 'Широта', 'Уверенность'])\n",
    "        coords.to_csv('./Data/coords_test.csv', index = False)\n",
    "        return problematic"
   ]
  },
  {
   "cell_type": "code",
   "execution_count": 299,
   "id": "64bd46b4-fdfc-464d-a2a4-3a94ef62a438",
   "metadata": {},
   "outputs": [
    {
     "data": {
      "text/html": [
       "<div>\n",
       "<style scoped>\n",
       "    .dataframe tbody tr th:only-of-type {\n",
       "        vertical-align: middle;\n",
       "    }\n",
       "\n",
       "    .dataframe tbody tr th {\n",
       "        vertical-align: top;\n",
       "    }\n",
       "\n",
       "    .dataframe thead th {\n",
       "        text-align: right;\n",
       "    }\n",
       "</style>\n",
       "<table border=\"1\" class=\"dataframe\">\n",
       "  <thead>\n",
       "    <tr style=\"text-align: right;\">\n",
       "      <th></th>\n",
       "      <th>Код грузополучателя</th>\n",
       "      <th>Адрес грузополучателя</th>\n",
       "    </tr>\n",
       "  </thead>\n",
       "  <tbody>\n",
       "    <tr>\n",
       "      <th>0</th>\n",
       "      <td>2773</td>\n",
       "      <td>644099, Россия, г. Омск. ул. Фрунзе, д.54</td>\n",
       "    </tr>\n",
       "    <tr>\n",
       "      <th>1</th>\n",
       "      <td>8536</td>\n",
       "      <td>РФ, г. Омск, пр. Губкина, д.1</td>\n",
       "    </tr>\n",
       "    <tr>\n",
       "      <th>2</th>\n",
       "      <td>8782</td>\n",
       "      <td>г. Екатеринбург, ул. Сакко и Ванцетти, д.61</td>\n",
       "    </tr>\n",
       "    <tr>\n",
       "      <th>3</th>\n",
       "      <td>23908</td>\n",
       "      <td>Россия, 190900, Санкт-Петербург, box 1283</td>\n",
       "    </tr>\n",
       "    <tr>\n",
       "      <th>4</th>\n",
       "      <td>24446</td>\n",
       "      <td>г. Москва, Капотня, 2 квартал, д.1, корп. 3</td>\n",
       "    </tr>\n",
       "  </tbody>\n",
       "</table>\n",
       "</div>"
      ],
      "text/plain": [
       "   Код грузополучателя                        Адрес грузополучателя\n",
       "0                 2773    644099, Россия, г. Омск. ул. Фрунзе, д.54\n",
       "1                 8536                РФ, г. Омск, пр. Губкина, д.1\n",
       "2                 8782  г. Екатеринбург, ул. Сакко и Ванцетти, д.61\n",
       "3                23908    Россия, 190900, Санкт-Петербург, box 1283\n",
       "4                24446  г. Москва, Капотня, 2 квартал, д.1, корп. 3"
      ]
     },
     "execution_count": 299,
     "metadata": {},
     "output_type": "execute_result"
    }
   ],
   "source": [
    "adresses = pd.read_excel('./Data/Справочник грузополучателей.xlsx')\n",
    "adresses.head()"
   ]
  },
  {
   "cell_type": "code",
   "execution_count": 300,
   "id": "9810cafb-c5e2-4831-93aa-f1ce48724f68",
   "metadata": {},
   "outputs": [],
   "source": [
    "geo_solver = GeoSolver()"
   ]
  },
  {
   "cell_type": "code",
   "execution_count": 301,
   "id": "c3f964d9-6f6b-45e1-812a-8bc56763dbea",
   "metadata": {},
   "outputs": [
    {
     "data": {
      "text/plain": [
       "([43.3620656, 132.8319624], 0.5)"
      ]
     },
     "execution_count": 301,
     "metadata": {},
     "output_type": "execute_result"
    }
   ],
   "source": [
    "geo_solver.find_coords('г. Москва, Капотня, 2 квартал, д.1, корп. 3' )"
   ]
  },
  {
   "cell_type": "markdown",
   "id": "29f62e1e-c6f9-40ea-b4de-b9eca6afc8b1",
   "metadata": {},
   "source": [
    "# Тестируем код"
   ]
  },
  {
   "cell_type": "code",
   "execution_count": 302,
   "id": "32c44963-2e53-4b58-89c2-70516ef4d748",
   "metadata": {},
   "outputs": [
    {
     "data": {
      "application/vnd.jupyter.widget-view+json": {
       "model_id": "ada3fc44a4ca4ec1bdfe8a2ffa651f4e",
       "version_major": 2,
       "version_minor": 0
      },
      "text/plain": [
       "IntProgress(value=0, max=1856)"
      ]
     },
     "metadata": {},
     "output_type": "display_data"
    },
    {
     "name": "stdout",
     "output_type": "stream",
     "text": [
      "Ошибка! Россия, г ленинградская\n",
      "Ошибка! Россия, р 14\n",
      "Ошибка! Россия, п новый\n"
     ]
    }
   ],
   "source": [
    "p = geo_solver.pd_calc(adresses)"
   ]
  },
  {
   "cell_type": "code",
   "execution_count": 239,
   "id": "9a2b9c14-03f2-4d3f-9287-743e20300986",
   "metadata": {},
   "outputs": [
    {
     "data": {
      "text/plain": [
       "[]"
      ]
     },
     "execution_count": 239,
     "metadata": {},
     "output_type": "execute_result"
    }
   ],
   "source": [
    "p"
   ]
  },
  {
   "cell_type": "code",
   "execution_count": 297,
   "id": "aab80fdb-1831-47a6-8db3-db0e4eb79795",
   "metadata": {},
   "outputs": [
    {
     "data": {
      "text/plain": [
       "694.9292230470902"
      ]
     },
     "execution_count": 297,
     "metadata": {},
     "output_type": "execute_result"
    }
   ],
   "source": [
    "geo_solver.find_distance((55, 37), (60, 30))"
   ]
  },
  {
   "cell_type": "markdown",
   "id": "ed3268a8-9ed6-4995-8cd8-7bc3e3f149a0",
   "metadata": {},
   "source": [
    "Поток мысли, который к вск преобразуется в нормальный файл. Сейчас из полезного там реализован класс GeoSolver, который умеет:\n",
    "* брать адрес и выдавать ~координаты и \"уверенность\" в них\n",
    "* пройтись по датафрейму на основе таблицы с грузополучателями и выдать свою таблицу с колонками \"код...\", \"адрес...\", \"долгота\", \"широта\", \"уверенность\".\n",
    "* искать расстояние между двумя точками по их координатам (широта, долгота)\n",
    "\n",
    "Как работает уверенность (и код): т.к. адреса внесены в общем случае вообще произвольным образом, первым делом координаты ищутся по почтовому индексу. Не-None результату присваивается уверенность 1, т.к. лучше, скорее всего, уже не найти.\n",
    "\n",
    "\n",
    "Если ПИ отсутствует или не находится, происходит поиск ключевых слов (г, город, п, пос, респ, ...) в порядке \"увеличения масштаба\". В окрестности ключевого слова ищется название населенного пункта/местности/... из 1-2 слов. Уверенность 0.5 для всех результатов, т.к. geolocator сумасбродничает и на запросы \"россия москва\" и \"россия г москва\" выдает разные ответы. Если поиск по ключевому слову не удался, в geolocator закидывается по одному слову из всего запроса, чтобы найти хоть что-то, тут уже уверенность 0.\n",
    "\n",
    "! табличку грузополучателей код обрабатывает минут 5-7!"
   ]
  }
 ],
 "metadata": {
  "kernelspec": {
   "display_name": "Python 3",
   "language": "python",
   "name": "python3"
  },
  "language_info": {
   "codemirror_mode": {
    "name": "ipython",
    "version": 3
   },
   "file_extension": ".py",
   "mimetype": "text/x-python",
   "name": "python",
   "nbconvert_exporter": "python",
   "pygments_lexer": "ipython3",
   "version": "3.8.8"
  }
 },
 "nbformat": 4,
 "nbformat_minor": 5
}
