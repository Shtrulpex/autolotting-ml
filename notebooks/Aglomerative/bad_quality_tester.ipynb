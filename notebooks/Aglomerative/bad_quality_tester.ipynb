{
 "cells": [
  {
   "cell_type": "code",
   "execution_count": 1,
   "id": "7d4e3606-f9e2-4879-a470-682d31a8fdfe",
   "metadata": {},
   "outputs": [],
   "source": [
    "import numpy as np\n",
    "import pandas as pd"
   ]
  },
  {
   "cell_type": "code",
   "execution_count": 2,
   "id": "7f47166b-bfb3-4f83-90c2-007919f39ee5",
   "metadata": {},
   "outputs": [],
   "source": [
    "def check(filename):\n",
    "    n_lots = 0\n",
    "    lots = {}\n",
    "    data = pd.read_csv(filename)\n",
    "    for i in data.index:\n",
    "        lot, p = data['ID Лота'][i], data['Цена'][i]\n",
    "        if lot in lots:\n",
    "            lots[lot] += [p, 1]\n",
    "        else:\n",
    "            lots[lot] = [p, 1]\n",
    "            n_lots += 1\n",
    "    p_mean = 0\n",
    "    for l, items in lots.items():\n",
    "        p_mean += items[0]/items[1]\n",
    "    p_mean /= n_lots\n",
    "    return n_lots, p_mean"
   ]
  },
  {
   "cell_type": "code",
   "execution_count": 8,
   "id": "80c28d88-c9ca-481d-a14f-8fff57dd4361",
   "metadata": {},
   "outputs": [],
   "source": [
    "def quality(their, ours):\n",
    "    t_lots, t_mean = check(their) \n",
    "    o_lots, o_mean = check(ours)\n",
    "    print(((1-o_lots/t_lots)+(1-o_mean/t_mean))/2)"
   ]
  },
  {
   "cell_type": "code",
   "execution_count": 23,
   "id": "e444dbd7-a9f8-4780-88dc-1cde720b4dc2",
   "metadata": {},
   "outputs": [
    {
     "name": "stdout",
     "output_type": "stream",
     "text": [
      "0.7847191023101884\n"
     ]
    }
   ],
   "source": [
    "quality('./Data/2020-3.csv', './Result/2020-3.csv')"
   ]
  },
  {
   "cell_type": "markdown",
   "id": "a53c5f3d-4ad1-4b35-a5f2-dbca5b2a85b4",
   "metadata": {},
   "source": [
    "Качество: 0.5927475285473656\n",
    "Параметры: prod_percent = 50, prov_percent = 50, podgon = 1e-4\n",
    "\n",
    "Качество: 0.6218961400185278\n",
    "Параметры: prod_percent = 50, prov_percent = 50, podgon = 1e-2\n",
    "\n",
    "Качество: 0.6218961400185278\n",
    "Параметры: prod_percent = 50, prov_percent = 50, podgon = 0.5\n",
    "\n",
    "Качество: 0.7316381224550773\n",
    "Параметры: prod_percent = 50, prov_percent = 50, podgon = 1e-6     !!!!!!!\n",
    "\n",
    "MQ: 0.7847191023101884\n",
    "Параметры: prod_percent = 50, prov_percent = 50, podgon = 1e-8     !!!!!!!\n",
    "\n",
    "Качество: 0.7347552206818162\n",
    "Параметры: prod_percent = 50, prov_percent = 50, podgon = 1e-10\n",
    "\n",
    "Качество: 0.614426300673727\n",
    "Параметры: prod_percent = 60, prov_percent = 60, podgon = 1e-6\n",
    "\n",
    "Качество: 0.6171318247265578\n",
    "Параметры: prod_percent = 70, prov_percent = 70, podgon = 1e-6\n",
    "\n",
    "Качество: 0.6171318247265578\n",
    "Параметры: prod_percent = 80, prov_percent = 80, podgon = 1e-6\n",
    "\n",
    "Качество: 0.7316381224550773\n",
    "Параметры: prod_percent = 40, prov_percent = 40, podgon = 1e-6\n",
    "\n",
    "Качество: 0.7316381224550773\n",
    "Параметры: prod_percent = 30, prov_percent = 30, podgon = 1e-6\n",
    "\n",
    "Качество: 0.6438936676388944 \n",
    "Параметры: prod_percent = 40, prov_percent = 40, podgon = 1e-7\n",
    "\n",
    "Качество: 0.7796388632205948\n",
    "Параметры: prod_percent = 40, prov_percent = 40, podgon =  1e-9\n",
    "\n",
    "Качество: 0.7796388632205948\n",
    "Параметры: prod_percent = 50, prov_percent = 50, podgon = 1e-9\n",
    "\n",
    "Качество: 0.6623030594139343\n",
    "Параметры: prod_percent = 50, prov_percent = 50, podgon = 15 * 1e-9\n",
    "\n",
    "Качество: \n",
    "Параметры: prod_percent = 50, prov_percent = 50, podgon = \n",
    "\n",
    "Качество: \n",
    "Параметры: prod_percent = 50, prov_percent = 50, podgon = \n",
    "\n",
    "Качество: \n",
    "Параметры: prod_percent = 50, prov_percent = 50, podgon = "
   ]
  },
  {
   "cell_type": "code",
   "execution_count": null,
   "id": "6b91a02e-da33-44ef-a6f8-f9236365afe0",
   "metadata": {},
   "outputs": [],
   "source": []
  }
 ],
 "metadata": {
  "kernelspec": {
   "display_name": "Python 3",
   "language": "python",
   "name": "python3"
  },
  "language_info": {
   "codemirror_mode": {
    "name": "ipython",
    "version": 3
   },
   "file_extension": ".py",
   "mimetype": "text/x-python",
   "name": "python",
   "nbconvert_exporter": "python",
   "pygments_lexer": "ipython3",
   "version": "3.8.8"
  }
 },
 "nbformat": 4,
 "nbformat_minor": 5
}
